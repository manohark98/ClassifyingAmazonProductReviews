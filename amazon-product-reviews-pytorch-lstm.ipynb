{
 "cells": [
  {
   "cell_type": "markdown",
   "id": "709853e9",
   "metadata": {
    "papermill": {
     "duration": 0.010968,
     "end_time": "2024-05-12T10:42:39.338239",
     "exception": false,
     "start_time": "2024-05-12T10:42:39.327271",
     "status": "completed"
    },
    "tags": []
   },
   "source": [
    "<div style=\"background-color: #d40457; padding: 10px; border-radius: 8px;\">\n",
    "    <h1 style=\"color: #fff;\">Importing Libraries</h1>\n",
    "</div>"
   ]
  },
  {
   "cell_type": "code",
   "execution_count": 1,
   "id": "2e0defc8",
   "metadata": {
    "execution": {
     "iopub.execute_input": "2024-05-12T10:42:39.360911Z",
     "iopub.status.busy": "2024-05-12T10:42:39.360193Z",
     "iopub.status.idle": "2024-05-12T10:42:45.625922Z",
     "shell.execute_reply": "2024-05-12T10:42:45.624974Z"
    },
    "papermill": {
     "duration": 6.279628,
     "end_time": "2024-05-12T10:42:45.628463",
     "exception": false,
     "start_time": "2024-05-12T10:42:39.348835",
     "status": "completed"
    },
    "tags": []
   },
   "outputs": [],
   "source": [
    "import os\n",
    "\n",
    "import warnings\n",
    "\n",
    "from IPython.display import HTML\n",
    "\n",
    "import numpy as np\n",
    "import pandas as pd\n",
    "import matplotlib.pyplot as plt\n",
    "from matplotlib.colors import LinearSegmentedColormap\n",
    "import seaborn as sns\n",
    "\n",
    "import torch\n",
    "from torch import nn\n",
    "import torch.nn.functional as F\n",
    "from torch.utils.data import TensorDataset, DataLoader\n",
    "\n",
    "from sklearn.model_selection import train_test_split\n",
    "from sklearn.preprocessing import LabelEncoder\n",
    "from sklearn.metrics import confusion_matrix, f1_score, precision_score, recall_score\n",
    "\n",
    "from nltk.corpus import stopwords\n",
    "import re\n",
    "from collections import Counter\n",
    "\n",
    "from tqdm.auto import tqdm"
   ]
  },
  {
   "cell_type": "code",
   "execution_count": 2,
   "id": "f04091d1",
   "metadata": {
    "execution": {
     "iopub.execute_input": "2024-05-12T10:42:45.651437Z",
     "iopub.status.busy": "2024-05-12T10:42:45.650737Z",
     "iopub.status.idle": "2024-05-12T10:42:45.656823Z",
     "shell.execute_reply": "2024-05-12T10:42:45.655986Z"
    },
    "papermill": {
     "duration": 0.019178,
     "end_time": "2024-05-12T10:42:45.658658",
     "exception": false,
     "start_time": "2024-05-12T10:42:45.639480",
     "status": "completed"
    },
    "tags": []
   },
   "outputs": [],
   "source": [
    "color_list = ['#faa5c7', '#eb679c', '#cc3d76', '#b3245d', '#d40457', '#8f1042', '#6e042e']\n",
    "color_palette = sns.color_palette(color_list)\n",
    "sns.set_palette(color_palette)\n",
    "\n",
    "# cmap = colors.ListedColormap(color_palette)\n",
    "cmap = LinearSegmentedColormap.from_list('custom_palette', color_list, N=256)\n",
    "\n",
    "warnings.filterwarnings(\"ignore\")"
   ]
  },
  {
   "cell_type": "markdown",
   "id": "3c40b1e2",
   "metadata": {
    "papermill": {
     "duration": 0.010301,
     "end_time": "2024-05-12T10:42:45.679481",
     "exception": false,
     "start_time": "2024-05-12T10:42:45.669180",
     "status": "completed"
    },
    "tags": []
   },
   "source": [
    "<div style=\"background-color: #d40457; padding: 10px; border-radius: 8px;\">\n",
    "    <h1 style=\"color: #fff;\">Device Configuration</h1>\n",
    "</div>"
   ]
  },
  {
   "cell_type": "code",
   "execution_count": 3,
   "id": "819486ec",
   "metadata": {
    "execution": {
     "iopub.execute_input": "2024-05-12T10:42:45.701200Z",
     "iopub.status.busy": "2024-05-12T10:42:45.700899Z",
     "iopub.status.idle": "2024-05-12T10:42:45.775363Z",
     "shell.execute_reply": "2024-05-12T10:42:45.774441Z"
    },
    "papermill": {
     "duration": 0.087355,
     "end_time": "2024-05-12T10:42:45.777237",
     "exception": false,
     "start_time": "2024-05-12T10:42:45.689882",
     "status": "completed"
    },
    "tags": []
   },
   "outputs": [
    {
     "data": {
      "text/plain": [
       "device(type='cuda', index=0)"
      ]
     },
     "execution_count": 3,
     "metadata": {},
     "output_type": "execute_result"
    }
   ],
   "source": [
    "device = torch.device('cuda:0' if torch.cuda.is_available() else 'cpu')\n",
    "device"
   ]
  },
  {
   "cell_type": "markdown",
   "id": "ff404bb6",
   "metadata": {
    "papermill": {
     "duration": 0.010489,
     "end_time": "2024-05-12T10:42:45.798693",
     "exception": false,
     "start_time": "2024-05-12T10:42:45.788204",
     "status": "completed"
    },
    "tags": []
   },
   "source": [
    "<div style=\"background-color: #d40457; padding: 10px; border-radius: 8px;\">\n",
    "    <h1 style=\"color: #fff;\">Importing Dataset</h1>\n",
    "</div>"
   ]
  },
  {
   "cell_type": "code",
   "execution_count": 4,
   "id": "f91b8fdf",
   "metadata": {
    "execution": {
     "iopub.execute_input": "2024-05-12T10:42:45.822525Z",
     "iopub.status.busy": "2024-05-12T10:42:45.822256Z",
     "iopub.status.idle": "2024-05-12T10:42:45.937271Z",
     "shell.execute_reply": "2024-05-12T10:42:45.936372Z"
    },
    "papermill": {
     "duration": 0.128758,
     "end_time": "2024-05-12T10:42:45.939469",
     "exception": false,
     "start_time": "2024-05-12T10:42:45.810711",
     "status": "completed"
    },
    "tags": []
   },
   "outputs": [
    {
     "data": {
      "text/html": [
       "<div>\n",
       "<style scoped>\n",
       "    .dataframe tbody tr th:only-of-type {\n",
       "        vertical-align: middle;\n",
       "    }\n",
       "\n",
       "    .dataframe tbody tr th {\n",
       "        vertical-align: top;\n",
       "    }\n",
       "\n",
       "    .dataframe thead th {\n",
       "        text-align: right;\n",
       "    }\n",
       "</style>\n",
       "<table border=\"1\" class=\"dataframe\">\n",
       "  <thead>\n",
       "    <tr style=\"text-align: right;\">\n",
       "      <th></th>\n",
       "      <th>Text</th>\n",
       "      <th>label</th>\n",
       "    </tr>\n",
       "  </thead>\n",
       "  <tbody>\n",
       "    <tr>\n",
       "      <th>0</th>\n",
       "      <td>This is  the best apps acording to a bunch of ...</td>\n",
       "      <td>1</td>\n",
       "    </tr>\n",
       "    <tr>\n",
       "      <th>1</th>\n",
       "      <td>This is a pretty good version of the game for ...</td>\n",
       "      <td>1</td>\n",
       "    </tr>\n",
       "    <tr>\n",
       "      <th>2</th>\n",
       "      <td>this is a really . there are a bunch of levels...</td>\n",
       "      <td>1</td>\n",
       "    </tr>\n",
       "    <tr>\n",
       "      <th>3</th>\n",
       "      <td>This is a silly game and can be frustrating, b...</td>\n",
       "      <td>1</td>\n",
       "    </tr>\n",
       "    <tr>\n",
       "      <th>4</th>\n",
       "      <td>This is a terrific game on any pad. Hrs of fun...</td>\n",
       "      <td>1</td>\n",
       "    </tr>\n",
       "  </tbody>\n",
       "</table>\n",
       "</div>"
      ],
      "text/plain": [
       "                                                Text  label\n",
       "0  This is  the best apps acording to a bunch of ...      1\n",
       "1  This is a pretty good version of the game for ...      1\n",
       "2  this is a really . there are a bunch of levels...      1\n",
       "3  This is a silly game and can be frustrating, b...      1\n",
       "4  This is a terrific game on any pad. Hrs of fun...      1"
      ]
     },
     "execution_count": 4,
     "metadata": {},
     "output_type": "execute_result"
    }
   ],
   "source": [
    "data = pd.read_csv('/kaggle/input/amazon-product-reviews/amazon.csv')\n",
    "data.head()"
   ]
  },
  {
   "cell_type": "markdown",
   "id": "3d1e4856",
   "metadata": {
    "papermill": {
     "duration": 0.010407,
     "end_time": "2024-05-12T10:42:45.962085",
     "exception": false,
     "start_time": "2024-05-12T10:42:45.951678",
     "status": "completed"
    },
    "tags": []
   },
   "source": [
    "<div style=\"background-color: #d40457; padding: 10px; border-radius: 8px;\">\n",
    "    <h1 style=\"color: #fff;\">Data Preprocessing</h1>\n",
    "</div>"
   ]
  },
  {
   "cell_type": "code",
   "execution_count": 5,
   "id": "2bb7dfc3",
   "metadata": {
    "execution": {
     "iopub.execute_input": "2024-05-12T10:42:45.984076Z",
     "iopub.status.busy": "2024-05-12T10:42:45.983776Z",
     "iopub.status.idle": "2024-05-12T10:42:45.988787Z",
     "shell.execute_reply": "2024-05-12T10:42:45.987852Z"
    },
    "papermill": {
     "duration": 0.018296,
     "end_time": "2024-05-12T10:42:45.990771",
     "exception": false,
     "start_time": "2024-05-12T10:42:45.972475",
     "status": "completed"
    },
    "tags": []
   },
   "outputs": [],
   "source": [
    "def preprocessString(s):\n",
    "    # Remove all non-word characters (everything except numbers and letters)\n",
    "    s = re.sub(r\"[^\\w\\s]\", '', s)\n",
    "    # Replace all runs of whitespaces with no space\n",
    "    s = re.sub(r\"\\s+\", '', s)\n",
    "    # replace digits with no space\n",
    "    s = re.sub(r\"\\d\", '', s)\n",
    "    return s"
   ]
  },
  {
   "cell_type": "code",
   "execution_count": 6,
   "id": "b555f450",
   "metadata": {
    "execution": {
     "iopub.execute_input": "2024-05-12T10:42:46.012894Z",
     "iopub.status.busy": "2024-05-12T10:42:46.012627Z",
     "iopub.status.idle": "2024-05-12T10:42:46.018593Z",
     "shell.execute_reply": "2024-05-12T10:42:46.017817Z"
    },
    "papermill": {
     "duration": 0.018981,
     "end_time": "2024-05-12T10:42:46.020412",
     "exception": false,
     "start_time": "2024-05-12T10:42:46.001431",
     "status": "completed"
    },
    "tags": []
   },
   "outputs": [],
   "source": [
    "def getVocabulory(sentenceList):\n",
    "    wordList = []\n",
    "\n",
    "    stopWords = set(stopwords.words('english'))\n",
    "    \n",
    "    for sentence in sentenceList:\n",
    "        for word in sentence.lower().split():\n",
    "            processedWord = preprocessString(word)\n",
    "            if processedWord not in stopWords and processedWord != '':\n",
    "                wordList.append(processedWord)\n",
    "\n",
    "    corpus = Counter(wordList)\n",
    "    corpus_ = sorted(corpus,key=corpus.get,reverse=True)[:1000]\n",
    "    onehot_dict = {w:i+1 for i,w in enumerate(corpus_)}\n",
    "    \n",
    "    return onehot_dict"
   ]
  },
  {
   "cell_type": "code",
   "execution_count": 7,
   "id": "a9c5aec2",
   "metadata": {
    "execution": {
     "iopub.execute_input": "2024-05-12T10:42:46.042963Z",
     "iopub.status.busy": "2024-05-12T10:42:46.042670Z",
     "iopub.status.idle": "2024-05-12T10:42:46.049917Z",
     "shell.execute_reply": "2024-05-12T10:42:46.049103Z"
    },
    "papermill": {
     "duration": 0.020645,
     "end_time": "2024-05-12T10:42:46.051839",
     "exception": false,
     "start_time": "2024-05-12T10:42:46.031194",
     "status": "completed"
    },
    "tags": []
   },
   "outputs": [],
   "source": [
    "def preprocessData(data: pd.DataFrame):\n",
    "    X, y = data.loc[:, 'Text'].values, data.loc[:, 'label'].values\n",
    "    X_train, X_test, y_train, y_test = train_test_split(X, y, test_size = .2, stratify = y)\n",
    "    print(f'X_train {X_train.shape} | X_test {X_test.shape} | y_train {y_train.shape} | y_test {y_test.shape}')\n",
    "    \n",
    "    vocab = getVocabulory(X_train)\n",
    "    \n",
    "    new_X_train, new_X_test = [], []\n",
    "    \n",
    "    for sentence in X_train:\n",
    "        new_X_train.append([vocab[preprocessString(word)] for word in sentence.lower().split() if preprocessString(word) in vocab.keys()])\n",
    "        \n",
    "    for sentence in X_test:\n",
    "        new_X_test.append([vocab[preprocessString(word)] for word in sentence.lower().split() if preprocessString(word) in vocab.keys()])\n",
    "    \n",
    "    return new_X_train, new_X_test, y_train, y_test, vocab"
   ]
  },
  {
   "cell_type": "code",
   "execution_count": 8,
   "id": "d7ec11b7",
   "metadata": {
    "execution": {
     "iopub.execute_input": "2024-05-12T10:42:46.075364Z",
     "iopub.status.busy": "2024-05-12T10:42:46.075107Z",
     "iopub.status.idle": "2024-05-12T10:42:52.895126Z",
     "shell.execute_reply": "2024-05-12T10:42:52.894287Z"
    },
    "papermill": {
     "duration": 6.833979,
     "end_time": "2024-05-12T10:42:52.897570",
     "exception": false,
     "start_time": "2024-05-12T10:42:46.063591",
     "status": "completed"
    },
    "tags": []
   },
   "outputs": [
    {
     "name": "stdout",
     "output_type": "stream",
     "text": [
      "X_train (15996,) | X_test (4000,) | y_train (15996,) | y_test (4000,)\n"
     ]
    }
   ],
   "source": [
    "X_train, X_test, y_train, y_test, vocab = preprocessData(data)"
   ]
  },
  {
   "cell_type": "code",
   "execution_count": 9,
   "id": "6e8ed159",
   "metadata": {
    "execution": {
     "iopub.execute_input": "2024-05-12T10:42:52.920707Z",
     "iopub.status.busy": "2024-05-12T10:42:52.920426Z",
     "iopub.status.idle": "2024-05-12T10:42:53.234444Z",
     "shell.execute_reply": "2024-05-12T10:42:53.233446Z"
    },
    "papermill": {
     "duration": 0.327676,
     "end_time": "2024-05-12T10:42:53.236543",
     "exception": false,
     "start_time": "2024-05-12T10:42:52.908867",
     "status": "completed"
    },
    "tags": []
   },
   "outputs": [
    {
     "data": {
      "text/plain": [
       "<Axes: >"
      ]
     },
     "execution_count": 9,
     "metadata": {},
     "output_type": "execute_result"
    },
    {
     "data": {
      "image/png": "[encoded data removed]",
      "text/plain": [
       "<Figure size 640x480 with 1 Axes>"
      ]
     },
     "metadata": {},
     "output_type": "display_data"
    }
   ],
   "source": [
    "rev_len = [len(i) for i in X_train]\n",
    "pd.Series(rev_len).hist()"
   ]
  },
  {
   "cell_type": "code",
   "execution_count": 10,
   "id": "2ce54701",
   "metadata": {
    "execution": {
     "iopub.execute_input": "2024-05-12T10:42:53.260098Z",
     "iopub.status.busy": "2024-05-12T10:42:53.259788Z",
     "iopub.status.idle": "2024-05-12T10:42:53.264978Z",
     "shell.execute_reply": "2024-05-12T10:42:53.264100Z"
    },
    "papermill": {
     "duration": 0.019126,
     "end_time": "2024-05-12T10:42:53.266760",
     "exception": false,
     "start_time": "2024-05-12T10:42:53.247634",
     "status": "completed"
    },
    "tags": []
   },
   "outputs": [],
   "source": [
    "def padding(sentences, seq_len):\n",
    "    features = np.zeros((len(sentences), seq_len),dtype=int)\n",
    "    for ii, review in enumerate(sentences):\n",
    "        if len(review) != 0:\n",
    "            features[ii, -len(review):] = np.array(review)[:seq_len]\n",
    "    return features"
   ]
  },
  {
   "cell_type": "code",
   "execution_count": 11,
   "id": "c27cee6c",
   "metadata": {
    "execution": {
     "iopub.execute_input": "2024-05-12T10:42:53.289851Z",
     "iopub.status.busy": "2024-05-12T10:42:53.289581Z",
     "iopub.status.idle": "2024-05-12T10:42:53.363355Z",
     "shell.execute_reply": "2024-05-12T10:42:53.362685Z"
    },
    "papermill": {
     "duration": 0.087711,
     "end_time": "2024-05-12T10:42:53.365368",
     "exception": false,
     "start_time": "2024-05-12T10:42:53.277657",
     "status": "completed"
    },
    "tags": []
   },
   "outputs": [],
   "source": [
    "X_train = padding(X_train, 30)\n",
    "X_test = padding(X_test, 30)"
   ]
  },
  {
   "cell_type": "code",
   "execution_count": 12,
   "id": "6db08478",
   "metadata": {
    "execution": {
     "iopub.execute_input": "2024-05-12T10:42:53.388205Z",
     "iopub.status.busy": "2024-05-12T10:42:53.387924Z",
     "iopub.status.idle": "2024-05-12T10:42:53.415510Z",
     "shell.execute_reply": "2024-05-12T10:42:53.414670Z"
    },
    "papermill": {
     "duration": 0.041137,
     "end_time": "2024-05-12T10:42:53.417482",
     "exception": false,
     "start_time": "2024-05-12T10:42:53.376345",
     "status": "completed"
    },
    "tags": []
   },
   "outputs": [],
   "source": [
    "X_train, y_train = torch.Tensor(X_train), torch.Tensor(y_train)\n",
    "X_test, y_test = torch.Tensor(X_test), torch.Tensor(y_test)"
   ]
  },
  {
   "cell_type": "code",
   "execution_count": 13,
   "id": "c01044ad",
   "metadata": {
    "execution": {
     "iopub.execute_input": "2024-05-12T10:42:53.440879Z",
     "iopub.status.busy": "2024-05-12T10:42:53.440362Z",
     "iopub.status.idle": "2024-05-12T10:42:53.446572Z",
     "shell.execute_reply": "2024-05-12T10:42:53.445773Z"
    },
    "papermill": {
     "duration": 0.019951,
     "end_time": "2024-05-12T10:42:53.448398",
     "exception": false,
     "start_time": "2024-05-12T10:42:53.428447",
     "status": "completed"
    },
    "tags": []
   },
   "outputs": [],
   "source": [
    "train_dataset = TensorDataset(X_train, y_train)\n",
    "test_dataset = TensorDataset(X_test, y_test)\n",
    "\n",
    "batch_size = 32\n",
    "\n",
    "train_dataloader = DataLoader(train_dataset, batch_size = batch_size, shuffle = True, drop_last = True)\n",
    "test_dataloader = DataLoader(test_dataset, batch_size = batch_size, drop_last = True)"
   ]
  },
  {
   "cell_type": "markdown",
   "id": "32ef9240",
   "metadata": {
    "papermill": {
     "duration": 0.010868,
     "end_time": "2024-05-12T10:42:53.470085",
     "exception": false,
     "start_time": "2024-05-12T10:42:53.459217",
     "status": "completed"
    },
    "tags": []
   },
   "source": [
    "<div style=\"background-color: #d40457; padding: 10px; border-radius: 8px;\">\n",
    "    <h1 style=\"color: #fff;\">Creating the Network</h1>\n",
    "</div>"
   ]
  },
  {
   "cell_type": "code",
   "execution_count": 14,
   "id": "9bdc30c2",
   "metadata": {
    "execution": {
     "iopub.execute_input": "2024-05-12T10:42:53.493098Z",
     "iopub.status.busy": "2024-05-12T10:42:53.492829Z",
     "iopub.status.idle": "2024-05-12T10:42:53.505713Z",
     "shell.execute_reply": "2024-05-12T10:42:53.504861Z"
    },
    "papermill": {
     "duration": 0.026806,
     "end_time": "2024-05-12T10:42:53.507843",
     "exception": false,
     "start_time": "2024-05-12T10:42:53.481037",
     "status": "completed"
    },
    "tags": []
   },
   "outputs": [],
   "source": [
    "def makeTheNet():\n",
    "    class FakeNewsRNN(nn.Module):\n",
    "        def __init__(self, no_layers, vocab_size, hidden_dim, embedding_dim, output_dim):\n",
    "            super().__init__()\n",
    "\n",
    "            self.no_layers = no_layers\n",
    "            self.hidden_dim = hidden_dim\n",
    "            self.output_dim = output_dim\n",
    "\n",
    "            # Embedding Layer\n",
    "            self.embedding = nn.Embedding(vocab_size, embedding_dim)\n",
    "\n",
    "            # LSTM Layers\n",
    "            self.lstm = nn.LSTM(\n",
    "                input_size=embedding_dim,\n",
    "                hidden_size=hidden_dim,\n",
    "                num_layers=no_layers,\n",
    "                batch_first=True,\n",
    "            )\n",
    "\n",
    "            # Dropout to reduce overfitting\n",
    "            self.dropout = nn.Dropout(0.5)\n",
    "\n",
    "            # Fully Connected Layers with BatchNorm and Dropout\n",
    "            self.fc1 = nn.Linear(hidden_dim, hidden_dim // 2)  # Reduce size to decrease complexity\n",
    "            self.bn1 = nn.BatchNorm1d(hidden_dim // 2)  # BatchNorm\n",
    "            self.fc2 = nn.Linear(hidden_dim // 2, hidden_dim // 4)  # Further reduction\n",
    "            self.bn2 = nn.BatchNorm1d(hidden_dim // 4)\n",
    "            self.output = nn.Linear(hidden_dim // 4, output_dim)  # Final output layer\n",
    "\n",
    "        def forward(self, x, hidden):\n",
    "            # Embedding and LSTM\n",
    "            x = self.embedding(x)\n",
    "            x, hidden = self.lstm(x, hidden)\n",
    "            x = x[:, -1, :]  # Use last output for classification\n",
    "            x = self.dropout(x)  # Apply dropout\n",
    "\n",
    "            # Fully Connected Layers with ReLU, BatchNorm, and Dropout\n",
    "            x = F.relu(self.fc1(x))\n",
    "            x = self.bn1(x)  # Apply batch normalization\n",
    "            x = F.dropout(x, 0.5)  # Apply dropout\n",
    "            \n",
    "            x = F.relu(self.fc2(x))\n",
    "            x = self.bn2(x)\n",
    "            x = F.dropout(x, 0.5)  # Additional dropout for regularization\n",
    "            \n",
    "            return self.output(x), hidden  # Output layer\n",
    "\n",
    "        def init_hidden(self, batch_size):\n",
    "            # Initialize hidden states\n",
    "            h0 = torch.zeros((self.no_layers, batch_size, self.hidden_dim)).to(device)\n",
    "            c0 = torch.zeros((self.no_layers, batch_size, self.hidden_dim)).to(device)\n",
    "            hidden = (h0, c0)\n",
    "            return hidden\n",
    "\n",
    "    # Create the model with modified layer dimensions\n",
    "    net = FakeNewsRNN(\n",
    "        no_layers=2,\n",
    "        hidden_dim=512,\n",
    "        output_dim=1,\n",
    "        embedding_dim=128,\n",
    "        vocab_size=len(vocab) + 1,\n",
    "    )\n",
    "\n",
    "    # Loss function and optimizer with L2 regularization\n",
    "    lossfun = nn.BCEWithLogitsLoss()  # Binary classification\n",
    "    optimizer = torch.optim.Adam(net.parameters(), lr = .0001, weight_decay = .01)  # L2 regularization\n",
    "    \n",
    "    return net, lossfun, optimizer"
   ]
  },
  {
   "cell_type": "code",
   "execution_count": 15,
   "id": "6a9de118",
   "metadata": {
    "execution": {
     "iopub.execute_input": "2024-05-12T10:42:53.531049Z",
     "iopub.status.busy": "2024-05-12T10:42:53.530543Z",
     "iopub.status.idle": "2024-05-12T10:42:55.878655Z",
     "shell.execute_reply": "2024-05-12T10:42:55.877707Z"
    },
    "papermill": {
     "duration": 2.362308,
     "end_time": "2024-05-12T10:42:55.881115",
     "exception": false,
     "start_time": "2024-05-12T10:42:53.518807",
     "status": "completed"
    },
    "tags": []
   },
   "outputs": [
    {
     "data": {
      "text/plain": [
       "FakeNewsRNN(\n",
       "  (embedding): Embedding(1001, 128)\n",
       "  (lstm): LSTM(128, 512, num_layers=2, batch_first=True)\n",
       "  (dropout): Dropout(p=0.5, inplace=False)\n",
       "  (fc1): Linear(in_features=512, out_features=256, bias=True)\n",
       "  (bn1): BatchNorm1d(256, eps=1e-05, momentum=0.1, affine=True, track_running_stats=True)\n",
       "  (fc2): Linear(in_features=256, out_features=128, bias=True)\n",
       "  (bn2): BatchNorm1d(128, eps=1e-05, momentum=0.1, affine=True, track_running_stats=True)\n",
       "  (output): Linear(in_features=128, out_features=1, bias=True)\n",
       ")"
      ]
     },
     "execution_count": 15,
     "metadata": {},
     "output_type": "execute_result"
    }
   ],
   "source": [
    "net, lossfun, optimizer = makeTheNet()\n",
    "net"
   ]
  },
  {
   "cell_type": "code",
   "execution_count": 16,
   "id": "57f719bf",
   "metadata": {
    "execution": {
     "iopub.execute_input": "2024-05-12T10:42:55.905420Z",
     "iopub.status.busy": "2024-05-12T10:42:55.905031Z",
     "iopub.status.idle": "2024-05-12T10:42:55.929787Z",
     "shell.execute_reply": "2024-05-12T10:42:55.928989Z"
    },
    "papermill": {
     "duration": 0.038895,
     "end_time": "2024-05-12T10:42:55.931606",
     "exception": false,
     "start_time": "2024-05-12T10:42:55.892711",
     "status": "completed"
    },
    "tags": []
   },
   "outputs": [
    {
     "data": {
      "text/plain": [
       "(torch.Size([32, 30]), torch.Size([32]))"
      ]
     },
     "execution_count": 16,
     "metadata": {},
     "output_type": "execute_result"
    }
   ],
   "source": [
    "X, y = next(iter(train_dataloader))\n",
    "X.shape, y.shape"
   ]
  },
  {
   "cell_type": "markdown",
   "id": "092054d5",
   "metadata": {
    "papermill": {
     "duration": 0.01107,
     "end_time": "2024-05-12T10:42:55.953806",
     "exception": false,
     "start_time": "2024-05-12T10:42:55.942736",
     "status": "completed"
    },
    "tags": []
   },
   "source": [
    "<div style=\"background-color: #d40457; padding: 10px; border-radius: 8px;\">\n",
    "    <h1 style=\"color: #fff;\">Training the Network</h1>\n",
    "</div>"
   ]
  },
  {
   "cell_type": "code",
   "execution_count": 17,
   "id": "9f6c6757",
   "metadata": {
    "execution": {
     "iopub.execute_input": "2024-05-12T10:42:55.977616Z",
     "iopub.status.busy": "2024-05-12T10:42:55.977374Z",
     "iopub.status.idle": "2024-05-12T10:42:55.990421Z",
     "shell.execute_reply": "2024-05-12T10:42:55.989775Z"
    },
    "papermill": {
     "duration": 0.027395,
     "end_time": "2024-05-12T10:42:55.992226",
     "exception": false,
     "start_time": "2024-05-12T10:42:55.964831",
     "status": "completed"
    },
    "tags": []
   },
   "outputs": [],
   "source": [
    "def trainTheNet():\n",
    "    clip = 5\n",
    "    epochs = 100\n",
    "    \n",
    "    net, lossfun, optimizer = makeTheNet()\n",
    "    net.to(device)\n",
    "    \n",
    "    trainAcc = []\n",
    "    trainLoss = []\n",
    "    testAcc = []\n",
    "    testLoss = []\n",
    "    \n",
    "    yTrue = []\n",
    "    yPred = []\n",
    "    \n",
    "    for epochi in tqdm(range(epochs)):\n",
    "        batchAcc = []\n",
    "        batchLoss = []\n",
    "        \n",
    "        h = net.init_hidden(batch_size)\n",
    "        \n",
    "        net.train()\n",
    "        \n",
    "        for X, y in train_dataloader:\n",
    "            X, y = X.to(device, dtype=torch.int), y.to(device)\n",
    "            h = tuple([each.data for each in h])\n",
    "            yHat, h = net(X, h)\n",
    "            yHat = yHat.squeeze()\n",
    "            loss = lossfun(yHat, y)\n",
    "            \n",
    "            batchAcc.append(100*torch.mean(((yHat.cpu() > .0) == y.cpu()).float()))\n",
    "            batchLoss.append(loss.item())\n",
    "            \n",
    "            optimizer.zero_grad()\n",
    "            loss.backward()\n",
    "            \n",
    "            nn.utils.clip_grad_norm_(net.parameters(), clip)\n",
    "            optimizer.step()\n",
    "        \n",
    "        trainAcc.append(np.mean(batchAcc))\n",
    "        trainLoss.append(np.mean(batchLoss))\n",
    "        \n",
    "        net.eval()\n",
    "        \n",
    "        with torch.no_grad():\n",
    "            \n",
    "            h = net.init_hidden(batch_size)\n",
    "        \n",
    "            batchAcc = []\n",
    "            batchLoss = []\n",
    "\n",
    "            for X, y in test_dataloader:\n",
    "                X, y = X.to(device, dtype=torch.int), y.to(device)\n",
    "                h = tuple([each.data for each in h])\n",
    "                yHat, h = net(X, h)\n",
    "                yHat = yHat.squeeze()\n",
    "                loss = lossfun(yHat, y)\n",
    "\n",
    "                yTrue.extend(y)\n",
    "                yPred.extend(yHat > .0)\n",
    "\n",
    "                batchAcc.append(100*torch.mean(((yHat.cpu() > .0) == y.cpu()).float()))\n",
    "                batchLoss.append(loss.item())\n",
    "\n",
    "            testAcc.append(np.mean(batchAcc))\n",
    "            testLoss.append(np.mean(batchLoss))\n",
    "        \n",
    "    return trainAcc, testAcc, trainLoss, testLoss, net, yTrue, yPred"
   ]
  },
  {
   "cell_type": "code",
   "execution_count": 18,
   "id": "a3cf78ab",
   "metadata": {
    "execution": {
     "iopub.execute_input": "2024-05-12T10:42:56.016698Z",
     "iopub.status.busy": "2024-05-12T10:42:56.016448Z",
     "iopub.status.idle": "2024-05-12T10:52:46.100912Z",
     "shell.execute_reply": "2024-05-12T10:52:46.099768Z"
    },
    "papermill": {
     "duration": 590.09878,
     "end_time": "2024-05-12T10:52:46.102785",
     "exception": false,
     "start_time": "2024-05-12T10:42:56.004005",
     "status": "completed"
    },
    "tags": []
   },
   "outputs": [
    {
     "data": {
      "application/vnd.jupyter.widget-view+json": {
       "model_id": "5da84e588add4c5da0fa8ef5886a99a2",
       "version_major": 2,
       "version_minor": 0
      },
      "text/plain": [
       "  0%|          | 0/100 [00:00<?, ?it/s]"
      ]
     },
     "metadata": {},
     "output_type": "display_data"
    }
   ],
   "source": [
    "trainAcc, testAcc, trainLoss, testLoss, net, yTrue, yPred = trainTheNet()"
   ]
  },
  {
   "cell_type": "markdown",
   "id": "5c4084f0",
   "metadata": {
    "papermill": {
     "duration": 0.01129,
     "end_time": "2024-05-12T10:52:46.125860",
     "exception": false,
     "start_time": "2024-05-12T10:52:46.114570",
     "status": "completed"
    },
    "tags": []
   },
   "source": [
    "<div style=\"background-color: #d40457; padding: 10px; border-radius: 8px;\">\n",
    "    <h1 style=\"color: #fff;\">Plotting Accuracy and Loss Curves</h1>\n",
    "</div>"
   ]
  },
  {
   "cell_type": "code",
   "execution_count": 19,
   "id": "76339f26",
   "metadata": {
    "execution": {
     "iopub.execute_input": "2024-05-12T10:52:46.150811Z",
     "iopub.status.busy": "2024-05-12T10:52:46.150526Z",
     "iopub.status.idle": "2024-05-12T10:52:46.747811Z",
     "shell.execute_reply": "2024-05-12T10:52:46.746863Z"
    },
    "papermill": {
     "duration": 0.613016,
     "end_time": "2024-05-12T10:52:46.750768",
     "exception": false,
     "start_time": "2024-05-12T10:52:46.137752",
     "status": "completed"
    },
    "tags": []
   },
   "outputs": [
    {
     "data": {
      "image/png": "[encoded data removed]",
      "text/plain": [
       "<Figure size 1800x800 with 2 Axes>"
      ]
     },
     "metadata": {},
     "output_type": "display_data"
    }
   ],
   "source": [
    "fig, ax = plt.subplots(1, 2, figsize = (18, 8))\n",
    "\n",
    "ax[0].plot(trainAcc, 'o-', label = 'Train')\n",
    "ax[0].plot(testAcc, 'o-', label = 'Test')\n",
    "ax[0].set_title(f'Final Test Accuracy = {testAcc[-1]:.2f}%')\n",
    "ax[0].set_xlabel('Epochs')\n",
    "ax[0].set_ylabel('Accuracy')\n",
    "ax[0].legend()\n",
    "\n",
    "ax[1].plot(trainLoss, 'o-', label = 'Train')\n",
    "ax[1].plot(testLoss, 'o-', label = 'Test')\n",
    "ax[1].set_title(f'Final Loss Accuracy = {testLoss[-1]:.2f}')\n",
    "ax[1].set_xlabel('Epochs')\n",
    "ax[1].set_ylabel('Accuracy')\n",
    "ax[1].legend()\n",
    "\n",
    "plt.show()"
   ]
  },
  {
   "cell_type": "code",
   "execution_count": 20,
   "id": "df05aaa5",
   "metadata": {
    "execution": {
     "iopub.execute_input": "2024-05-12T10:52:46.778335Z",
     "iopub.status.busy": "2024-05-12T10:52:46.778040Z",
     "iopub.status.idle": "2024-05-12T10:52:56.246212Z",
     "shell.execute_reply": "2024-05-12T10:52:56.245420Z"
    },
    "papermill": {
     "duration": 9.484524,
     "end_time": "2024-05-12T10:52:56.248516",
     "exception": false,
     "start_time": "2024-05-12T10:52:46.763992",
     "status": "completed"
    },
    "tags": []
   },
   "outputs": [],
   "source": [
    "yTrue, yPred = [yT.item() for yT in yTrue], [yP.item() for yP in yPred]"
   ]
  },
  {
   "cell_type": "markdown",
   "id": "afc25841",
   "metadata": {
    "papermill": {
     "duration": 0.012775,
     "end_time": "2024-05-12T10:52:56.274560",
     "exception": false,
     "start_time": "2024-05-12T10:52:56.261785",
     "status": "completed"
    },
    "tags": []
   },
   "source": [
    "<div style=\"background-color: #d40457; padding: 10px; border-radius: 8px;\">\n",
    "    <h1 style=\"color: #fff;\">Plotting the Confusion Matrix</h1>\n",
    "</div>"
   ]
  },
  {
   "cell_type": "code",
   "execution_count": 21,
   "id": "01cc837a",
   "metadata": {
    "execution": {
     "iopub.execute_input": "2024-05-12T10:52:56.301723Z",
     "iopub.status.busy": "2024-05-12T10:52:56.301420Z",
     "iopub.status.idle": "2024-05-12T10:52:57.147575Z",
     "shell.execute_reply": "2024-05-12T10:52:57.146589Z"
    },
    "papermill": {
     "duration": 0.862056,
     "end_time": "2024-05-12T10:52:57.149540",
     "exception": false,
     "start_time": "2024-05-12T10:52:56.287484",
     "status": "completed"
    },
    "tags": []
   },
   "outputs": [
    {
     "data": {
      "image/png": "[encoded data removed]",
      "text/plain": [
       "<Figure size 800x600 with 2 Axes>"
      ]
     },
     "metadata": {},
     "output_type": "display_data"
    }
   ],
   "source": [
    "cm = confusion_matrix(yTrue, yPred)\n",
    "\n",
    "plt.figure(figsize=(8, 6))\n",
    "sns.heatmap(cm, annot=True, cmap=cmap, fmt='g')\n",
    "plt.xlabel('Predicted')\n",
    "plt.ylabel('Actual')\n",
    "plt.title('Confusion Matrix')\n",
    "plt.show()"
   ]
  },
  {
   "cell_type": "markdown",
   "id": "9e3d72d4",
   "metadata": {
    "papermill": {
     "duration": 0.013455,
     "end_time": "2024-05-12T10:52:57.176765",
     "exception": false,
     "start_time": "2024-05-12T10:52:57.163310",
     "status": "completed"
    },
    "tags": []
   },
   "source": [
    "<div style=\"background-color: #d40457; padding: 10px; border-radius: 8px;\">\n",
    "    <h1 style=\"color: #fff;\">Evaluating the Results</h1>\n",
    "</div>"
   ]
  },
  {
   "cell_type": "code",
   "execution_count": 22,
   "id": "6a220aee",
   "metadata": {
    "execution": {
     "iopub.execute_input": "2024-05-12T10:52:57.250480Z",
     "iopub.status.busy": "2024-05-12T10:52:57.249764Z",
     "iopub.status.idle": "2024-05-12T10:52:58.647238Z",
     "shell.execute_reply": "2024-05-12T10:52:58.645970Z"
    },
    "papermill": {
     "duration": 1.459508,
     "end_time": "2024-05-12T10:52:58.649604",
     "exception": false,
     "start_time": "2024-05-12T10:52:57.190096",
     "status": "completed"
    },
    "tags": []
   },
   "outputs": [],
   "source": [
    "precision = precision_score(yTrue, yPred)\n",
    "recall = recall_score(yTrue, yPred)\n",
    "f1Score = f1_score(yTrue, yPred)"
   ]
  },
  {
   "cell_type": "code",
   "execution_count": 23,
   "id": "c38c1443",
   "metadata": {
    "execution": {
     "iopub.execute_input": "2024-05-12T10:52:58.678690Z",
     "iopub.status.busy": "2024-05-12T10:52:58.678373Z",
     "iopub.status.idle": "2024-05-12T10:52:58.685275Z",
     "shell.execute_reply": "2024-05-12T10:52:58.684387Z"
    },
    "papermill": {
     "duration": 0.023664,
     "end_time": "2024-05-12T10:52:58.687268",
     "exception": false,
     "start_time": "2024-05-12T10:52:58.663604",
     "status": "completed"
    },
    "tags": []
   },
   "outputs": [
    {
     "data": {
      "text/html": [
       "\n",
       "    <div style=\"display: flex; flex-direction: row; justify-content: center; align-items: center; gap: 30px\">\n",
       "        <span>\n",
       "            <h3 style=\"line-height: 30px; background-color: #cc3d76; padding: 20px 20px; border-radius: 8px\">Precision 0.90</h3>\n",
       "        </span>\n",
       "        \n",
       "        <span>\n",
       "            <h3 style=\"line-height: 30px; background-color: #b3245d; padding: 20px 20px; border-radius: 8px\">Recall 0.92</h3>\n",
       "        </span>\n",
       "        \n",
       "        <span>\n",
       "            <h3 style=\"line-height: 30px; background-color: #d40457; padding: 20px 20px; border-radius: 8px\">F1-Score 0.91</h3>\n",
       "        </span>\n",
       "    </div>\n"
      ],
      "text/plain": [
       "<IPython.core.display.HTML object>"
      ]
     },
     "execution_count": 23,
     "metadata": {},
     "output_type": "execute_result"
    }
   ],
   "source": [
    "html_code = f\"\"\"\n",
    "    <div style=\"display: flex; flex-direction: row; justify-content: center; align-items: center; gap: 30px\">\n",
    "        <span>\n",
    "            <h3 style=\"line-height: 30px; background-color: #cc3d76; padding: 20px 20px; border-radius: 8px\">Precision {precision:.2f}</h3>\n",
    "        </span>\n",
    "        \n",
    "        <span>\n",
    "            <h3 style=\"line-height: 30px; background-color: #b3245d; padding: 20px 20px; border-radius: 8px\">Recall {recall:.2f}</h3>\n",
    "        </span>\n",
    "        \n",
    "        <span>\n",
    "            <h3 style=\"line-height: 30px; background-color: #d40457; padding: 20px 20px; border-radius: 8px\">F1-Score {f1Score:.2f}</h3>\n",
    "        </span>\n",
    "    </div>\n",
    "\"\"\"\n",
    "HTML(html_code)"
   ]
  }
 ],
 "metadata": {
  "kaggle": {
   "accelerator": "nvidiaTeslaT4",
   "dataSources": [
    {
     "datasetId": 4755091,
     "sourceId": 8061171,
     "sourceType": "datasetVersion"
    }
   ],
   "dockerImageVersionId": 30699,
   "isGpuEnabled": true,
   "isInternetEnabled": true,
   "language": "python",
   "sourceType": "notebook"
  },
  "kernelspec": {
   "display_name": "Python 3",
   "language": "python",
   "name": "python3"
  },
  "language_info": {
   "codemirror_mode": {
    "name": "ipython",
    "version": 3
   },
   "file_extension": ".py",
   "mimetype": "text/x-python",
   "name": "python",
   "nbconvert_exporter": "python",
   "pygments_lexer": "ipython3",
   "version": "3.10.13"
  },
  "papermill": {
   "default_parameters": {},
   "duration": 624.399199,
   "end_time": "2024-05-12T10:53:01.007012",
   "environment_variables": {},
   "exception": null,
   "input_path": "__notebook__.ipynb",
   "output_path": "__notebook__.ipynb",
   "parameters": {},
   "start_time": "2024-05-12T10:42:36.607813",
   "version": "2.5.0"
  },
  "widgets": {
   "application/vnd.jupyter.widget-state+json": {
    "state": {
     "257e6ffd08f649d0ba17fe31a6198ce8": {
      "model_module": "@jupyter-widgets/controls",
      "model_module_version": "1.5.0",
      "model_name": "ProgressStyleModel",
      "state": {
       "_model_module": "@jupyter-widgets/controls",
       "_model_module_version": "1.5.0",
       "_model_name": "ProgressStyleModel",
       "_view_count": null,
       "_view_module": "@jupyter-widgets/base",
       "_view_module_version": "1.2.0",
       "_view_name": "StyleView",
       "bar_color": null,
       "description_width": ""
      }
     },
     "337c3c0e9f6045a19e6b28b035866811": {
      "model_module": "@jupyter-widgets/controls",
      "model_module_version": "1.5.0",
      "model_name": "HTMLModel",
      "state": {
       "_dom_classes": [],
       "_model_module": "@jupyter-widgets/controls",
       "_model_module_version": "1.5.0",
       "_model_name": "HTMLModel",
       "_view_count": null,
       "_view_module": "@jupyter-widgets/controls",
       "_view_module_version": "1.5.0",
       "_view_name": "HTMLView",
       "description": "",
       "description_tooltip": null,
       "layout": "IPY_MODEL_4dc834a6912440ab8b5ca52eb4c8aecb",
       "placeholder": "​",
       "style": "IPY_MODEL_ef45eadb057b4634946d75a8ca6b552a",
       "value": " 100/100 [09:49&lt;00:00,  5.91s/it]"
      }
     },
     "4b125ed6014b4de8b419e5c269d15650": {
      "model_module": "@jupyter-widgets/base",
      "model_module_version": "1.2.0",
      "model_name": "LayoutModel",
      "state": {
       "_model_module": "@jupyter-widgets/base",
       "_model_module_version": "1.2.0",
       "_model_name": "LayoutModel",
       "_view_count": null,
       "_view_module": "@jupyter-widgets/base",
       "_view_module_version": "1.2.0",
       "_view_name": "LayoutView",
       "align_content": null,
       "align_items": null,
       "align_self": null,
       "border": null,
       "bottom": null,
       "display": null,
       "flex": null,
       "flex_flow": null,
       "grid_area": null,
       "grid_auto_columns": null,
       "grid_auto_flow": null,
       "grid_auto_rows": null,
       "grid_column": null,
       "grid_gap": null,
       "grid_row": null,
       "grid_template_areas": null,
       "grid_template_columns": null,
       "grid_template_rows": null,
       "height": null,
       "justify_content": null,
       "justify_items": null,
       "left": null,
       "margin": null,
       "max_height": null,
       "max_width": null,
       "min_height": null,
       "min_width": null,
       "object_fit": null,
       "object_position": null,
       "order": null,
       "overflow": null,
       "overflow_x": null,
       "overflow_y": null,
       "padding": null,
       "right": null,
       "top": null,
       "visibility": null,
       "width": null
      }
     },
     "4dc834a6912440ab8b5ca52eb4c8aecb": {
      "model_module": "@jupyter-widgets/base",
      "model_module_version": "1.2.0",
      "model_name": "LayoutModel",
      "state": {
       "_model_module": "@jupyter-widgets/base",
       "_model_module_version": "1.2.0",
       "_model_name": "LayoutModel",
       "_view_count": null,
       "_view_module": "@jupyter-widgets/base",
       "_view_module_version": "1.2.0",
       "_view_name": "LayoutView",
       "align_content": null,
       "align_items": null,
       "align_self": null,
       "border": null,
       "bottom": null,
       "display": null,
       "flex": null,
       "flex_flow": null,
       "grid_area": null,
       "grid_auto_columns": null,
       "grid_auto_flow": null,
       "grid_auto_rows": null,
       "grid_column": null,
       "grid_gap": null,
       "grid_row": null,
       "grid_template_areas": null,
       "grid_template_columns": null,
       "grid_template_rows": null,
       "height": null,
       "justify_content": null,
       "justify_items": null,
       "left": null,
       "margin": null,
       "max_height": null,
       "max_width": null,
       "min_height": null,
       "min_width": null,
       "object_fit": null,
       "object_position": null,
       "order": null,
       "overflow": null,
       "overflow_x": null,
       "overflow_y": null,
       "padding": null,
       "right": null,
       "top": null,
       "visibility": null,
       "width": null
      }
     },
     "5192675d494547d9aabb9f7ba5196192": {
      "model_module": "@jupyter-widgets/controls",
      "model_module_version": "1.5.0",
      "model_name": "FloatProgressModel",
      "state": {
       "_dom_classes": [],
       "_model_module": "@jupyter-widgets/controls",
       "_model_module_version": "1.5.0",
       "_model_name": "FloatProgressModel",
       "_view_count": null,
       "_view_module": "@jupyter-widgets/controls",
       "_view_module_version": "1.5.0",
       "_view_name": "ProgressView",
       "bar_style": "success",
       "description": "",
       "description_tooltip": null,
       "layout": "IPY_MODEL_b44d000f40dd4aaeafa1abeea4f61865",
       "max": 100.0,
       "min": 0.0,
       "orientation": "horizontal",
       "style": "IPY_MODEL_257e6ffd08f649d0ba17fe31a6198ce8",
       "value": 100.0
      }
     },
     "5da84e588add4c5da0fa8ef5886a99a2": {
      "model_module": "@jupyter-widgets/controls",
      "model_module_version": "1.5.0",
      "model_name": "HBoxModel",
      "state": {
       "_dom_classes": [],
       "_model_module": "@jupyter-widgets/controls",
       "_model_module_version": "1.5.0",
       "_model_name": "HBoxModel",
       "_view_count": null,
       "_view_module": "@jupyter-widgets/controls",
       "_view_module_version": "1.5.0",
       "_view_name": "HBoxView",
       "box_style": "",
       "children": [
        "IPY_MODEL_70e3e62c06cd45ee8d1fe07ea0ebb5c6",
        "IPY_MODEL_5192675d494547d9aabb9f7ba5196192",
        "IPY_MODEL_337c3c0e9f6045a19e6b28b035866811"
       ],
       "layout": "IPY_MODEL_4b125ed6014b4de8b419e5c269d15650"
      }
     },
     "70e3e62c06cd45ee8d1fe07ea0ebb5c6": {
      "model_module": "@jupyter-widgets/controls",
      "model_module_version": "1.5.0",
      "model_name": "HTMLModel",
      "state": {
       "_dom_classes": [],
       "_model_module": "@jupyter-widgets/controls",
       "_model_module_version": "1.5.0",
       "_model_name": "HTMLModel",
       "_view_count": null,
       "_view_module": "@jupyter-widgets/controls",
       "_view_module_version": "1.5.0",
       "_view_name": "HTMLView",
       "description": "",
       "description_tooltip": null,
       "layout": "IPY_MODEL_8df127ba08c54696bf080d2af6b09d9b",
       "placeholder": "​",
       "style": "IPY_MODEL_9ac516c4607a4aaf99b023ab9f9f4377",
       "value": "100%"
      }
     },
     "8df127ba08c54696bf080d2af6b09d9b": {
      "model_module": "@jupyter-widgets/base",
      "model_module_version": "1.2.0",
      "model_name": "LayoutModel",
      "state": {
       "_model_module": "@jupyter-widgets/base",
       "_model_module_version": "1.2.0",
       "_model_name": "LayoutModel",
       "_view_count": null,
       "_view_module": "@jupyter-widgets/base",
       "_view_module_version": "1.2.0",
       "_view_name": "LayoutView",
       "align_content": null,
       "align_items": null,
       "align_self": null,
       "border": null,
       "bottom": null,
       "display": null,
       "flex": null,
       "flex_flow": null,
       "grid_area": null,
       "grid_auto_columns": null,
       "grid_auto_flow": null,
       "grid_auto_rows": null,
       "grid_column": null,
       "grid_gap": null,
       "grid_row": null,
       "grid_template_areas": null,
       "grid_template_columns": null,
       "grid_template_rows": null,
       "height": null,
       "justify_content": null,
       "justify_items": null,
       "left": null,
       "margin": null,
       "max_height": null,
       "max_width": null,
       "min_height": null,
       "min_width": null,
       "object_fit": null,
       "object_position": null,
       "order": null,
       "overflow": null,
       "overflow_x": null,
       "overflow_y": null,
       "padding": null,
       "right": null,
       "top": null,
       "visibility": null,
       "width": null
      }
     },
     "9ac516c4607a4aaf99b023ab9f9f4377": {
      "model_module": "@jupyter-widgets/controls",
      "model_module_version": "1.5.0",
      "model_name": "DescriptionStyleModel",
      "state": {
       "_model_module": "@jupyter-widgets/controls",
       "_model_module_version": "1.5.0",
       "_model_name": "DescriptionStyleModel",
       "_view_count": null,
       "_view_module": "@jupyter-widgets/base",
       "_view_module_version": "1.2.0",
       "_view_name": "StyleView",
       "description_width": ""
      }
     },
     "b44d000f40dd4aaeafa1abeea4f61865": {
      "model_module": "@jupyter-widgets/base",
      "model_module_version": "1.2.0",
      "model_name": "LayoutModel",
      "state": {
       "_model_module": "@jupyter-widgets/base",
       "_model_module_version": "1.2.0",
       "_model_name": "LayoutModel",
       "_view_count": null,
       "_view_module": "@jupyter-widgets/base",
       "_view_module_version": "1.2.0",
       "_view_name": "LayoutView",
       "align_content": null,
       "align_items": null,
       "align_self": null,
       "border": null,
       "bottom": null,
       "display": null,
       "flex": null,
       "flex_flow": null,
       "grid_area": null,
       "grid_auto_columns": null,
       "grid_auto_flow": null,
       "grid_auto_rows": null,
       "grid_column": null,
       "grid_gap": null,
       "grid_row": null,
       "grid_template_areas": null,
       "grid_template_columns": null,
       "grid_template_rows": null,
       "height": null,
       "justify_content": null,
       "justify_items": null,
       "left": null,
       "margin": null,
       "max_height": null,
       "max_width": null,
       "min_height": null,
       "min_width": null,
       "object_fit": null,
       "object_position": null,
       "order": null,
       "overflow": null,
       "overflow_x": null,
       "overflow_y": null,
       "padding": null,
       "right": null,
       "top": null,
       "visibility": null,
       "width": null
      }
     },
     "ef45eadb057b4634946d75a8ca6b552a": {
      "model_module": "@jupyter-widgets/controls",
      "model_module_version": "1.5.0",
      "model_name": "DescriptionStyleModel",
      "state": {
       "_model_module": "@jupyter-widgets/controls",
       "_model_module_version": "1.5.0",
       "_model_name": "DescriptionStyleModel",
       "_view_count": null,
       "_view_module": "@jupyter-widgets/base",
       "_view_module_version": "1.2.0",
       "_view_name": "StyleView",
       "description_width": ""
      }
     }
    },
    "version_major": 2,
    "version_minor": 0
   }
  }
 },
 "nbformat": 4,
 "nbformat_minor": 5
}
